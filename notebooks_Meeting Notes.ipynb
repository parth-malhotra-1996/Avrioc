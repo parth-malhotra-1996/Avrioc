{
  "metadata": {
    "kernelspec": {
      "name": "python",
      "display_name": "Python (Pyodide)",
      "language": "python"
    },
    "language_info": {
      "codemirror_mode": {
        "name": "python",
        "version": 3
      },
      "file_extension": ".py",
      "mimetype": "text/x-python",
      "name": "python",
      "nbconvert_exporter": "python",
      "pygments_lexer": "ipython3",
      "version": "3.8"
    }
  },
  "nbformat_minor": 5,
  "nbformat": 4,
  "cells": [
    {
      "cell_type": "markdown",
      "source": "# Avrioc MOM",
      "metadata": {},
      "id": "7701b231-561b-4cbe-a1db-2a3c918a0961"
    },
    {
      "cell_type": "markdown",
      "source": "___\n### Meeting Date : 28-Nov-2022",
      "metadata": {},
      "id": "b8726a6f-81a3-42f0-8ae2-0941b168a378"
    },
    {
      "cell_type": "markdown",
      "source": "### Agenda : Discovery",
      "metadata": {},
      "id": "3d834f0c-654a-42ee-86af-dacc12aaf39d"
    },
    {
      "cell_type": "markdown",
      "source": "### Meeting Notes :\n- Boost Package introduction and presentation.\n- Explanation of 4 hour block policy\n- Requirement Clarification and scope discussion.\n    - The following requirements can be fulfilled under boost services scope :\n        - Non-PROD cluster size (ERU 1) – What type of EC2 instances, and hardware specs and how many nodes for each component etc.\n        - Production Cluster size (ERU 4) - What type of EC2 instances, and hardware specs and how many nodes for each component etc. \n        - Data tiering for HOT, WARM, COLD, & FROZEN and Archiving post 3 months.\n        - Data sizing requirements in each index\n        - Indexing strategy (Shards and Replicas)\n        - ILM policies as per the best practices\n        - Azure SSO integration\n    - The following requirements will be considered later if time permits :\n        - Using OWN SSL certificates for all nodes/components. \n        - Logstash deployment strategy, and pipeline configuration for accommodating four different products log processing.\n        - Jira integration for creating issues based on the errors that appears in logs and PagerDuty integration for incidents occurred by looking at the log messages.",
      "metadata": {},
      "id": "869a0e91-ec77-48d2-879a-091a490ae332"
    },
    {
      "cell_type": "markdown",
      "source": "### Action Points :\n* #### On Elastic Team - \n    * Provide reference links for various requirements",
      "metadata": {},
      "id": "da45c3fe-6aa3-4aad-b483-079e25f87a0c"
    },
    {
      "cell_type": "markdown",
      "source": "### Action Point Resolution :\n- _Reference Links_ : document containing links for references :\n> https://docs.google.com/document/d/1E5LdRwd9RpsvtHd3c-BwI2oMjF8dVbfaBup4HJgNCCA/edit",
      "metadata": {},
      "id": "9a6b1d8f-dc7b-498d-916a-d4343502b066"
    },
    {
      "cell_type": "markdown",
      "source": "___\n### Meeting Date : 16-Dec-2022",
      "metadata": {},
      "id": "b9670d85-ef29-4dfd-b4b5-e76d279c1f1a"
    },
    {
      "cell_type": "markdown",
      "source": "### Agenda : Non-prod Cluster Review ",
      "metadata": {},
      "id": "35ccdcfb-bcba-42ea-98c6-6d10e49252fe"
    },
    {
      "cell_type": "markdown",
      "source": "### Meeting Notes :\n- A fresh installation of non-prod cluster was made prior to the call\n- Cluster review was performed by triggering API commands for clusters and nodes\n- Diagnostics was run on the cluster which needs to be analysed for mapping issues, indexing issues etc.",
      "metadata": {},
      "id": "0be0441c-b75d-40f4-ac4c-e37b6bcef8cf"
    },
    {
      "cell_type": "markdown",
      "source": "### Action Points :\n* #### On Elastic Team - \n    * Look into the steps or script to mask the sensitive information ( like IP address) to share/upload the api-diagnostics file (else they need to go through a lot of approvals for sharing the file)\n    * How to utilize the Non-prod licenses they've been provided along with the prod ones",
      "metadata": {},
      "id": "c9338956-a528-453a-974f-7f5643dcd616"
    },
    {
      "cell_type": "markdown",
      "source": "### Action Point Resolution :\n- _Masking Script_ : for masking the sensitive data in the diagnostics bundle, File Sanitization Utility can be used \n> https://github.com/elastic/support-diagnostics#file-sanitization-utility\n- _Non-Prod License_ : The non-prod license could be found by clicking on the link received and will be visible as part of the license key activation. ",
      "metadata": {},
      "id": "8b0733b9-5353-4ec9-a657-2e4360720117"
    }
  ]
}